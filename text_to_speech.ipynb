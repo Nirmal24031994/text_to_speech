{
  "nbformat": 4,
  "nbformat_minor": 0,
  "metadata": {
    "colab": {
      "provenance": [],
      "authorship_tag": "ABX9TyMBmmaWrMI1Q9GhC/wgD+4W",
      "include_colab_link": true
    },
    "kernelspec": {
      "name": "python3",
      "display_name": "Python 3"
    },
    "language_info": {
      "name": "python"
    }
  },
  "cells": [
    {
      "cell_type": "markdown",
      "metadata": {
        "id": "view-in-github",
        "colab_type": "text"
      },
      "source": [
        "<a href=\"https://colab.research.google.com/github/Nirmal24031994/text_to_speech/blob/main/text_to_speech.ipynb\" target=\"_parent\"><img src=\"https://colab.research.google.com/assets/colab-badge.svg\" alt=\"Open In Colab\"/></a>"
      ]
    },
    {
      "cell_type": "code",
      "source": [],
      "metadata": {
        "id": "0ndSj_IzfoOf"
      },
      "execution_count": null,
      "outputs": []
    },
    {
      "cell_type": "code",
      "source": [
        "pip install transformers\n"
      ],
      "metadata": {
        "colab": {
          "base_uri": "https://localhost:8080/"
        },
        "id": "4Jg80LwLfs_M",
        "outputId": "d5c18dc4-4d7b-4c95-aa34-72d1255f7146"
      },
      "execution_count": 3,
      "outputs": [
        {
          "output_type": "stream",
          "name": "stdout",
          "text": [
            "Requirement already satisfied: transformers in /usr/local/lib/python3.11/dist-packages (4.50.2)\n",
            "Requirement already satisfied: filelock in /usr/local/lib/python3.11/dist-packages (from transformers) (3.18.0)\n",
            "Requirement already satisfied: huggingface-hub<1.0,>=0.26.0 in /usr/local/lib/python3.11/dist-packages (from transformers) (0.29.3)\n",
            "Requirement already satisfied: numpy>=1.17 in /usr/local/lib/python3.11/dist-packages (from transformers) (2.0.2)\n",
            "Requirement already satisfied: packaging>=20.0 in /usr/local/lib/python3.11/dist-packages (from transformers) (24.2)\n",
            "Requirement already satisfied: pyyaml>=5.1 in /usr/local/lib/python3.11/dist-packages (from transformers) (6.0.2)\n",
            "Requirement already satisfied: regex!=2019.12.17 in /usr/local/lib/python3.11/dist-packages (from transformers) (2024.11.6)\n",
            "Requirement already satisfied: requests in /usr/local/lib/python3.11/dist-packages (from transformers) (2.32.3)\n",
            "Requirement already satisfied: tokenizers<0.22,>=0.21 in /usr/local/lib/python3.11/dist-packages (from transformers) (0.21.1)\n",
            "Requirement already satisfied: safetensors>=0.4.3 in /usr/local/lib/python3.11/dist-packages (from transformers) (0.5.3)\n",
            "Requirement already satisfied: tqdm>=4.27 in /usr/local/lib/python3.11/dist-packages (from transformers) (4.67.1)\n",
            "Requirement already satisfied: fsspec>=2023.5.0 in /usr/local/lib/python3.11/dist-packages (from huggingface-hub<1.0,>=0.26.0->transformers) (2025.3.0)\n",
            "Requirement already satisfied: typing-extensions>=3.7.4.3 in /usr/local/lib/python3.11/dist-packages (from huggingface-hub<1.0,>=0.26.0->transformers) (4.13.0)\n",
            "Requirement already satisfied: charset-normalizer<4,>=2 in /usr/local/lib/python3.11/dist-packages (from requests->transformers) (3.4.1)\n",
            "Requirement already satisfied: idna<4,>=2.5 in /usr/local/lib/python3.11/dist-packages (from requests->transformers) (3.10)\n",
            "Requirement already satisfied: urllib3<3,>=1.21.1 in /usr/local/lib/python3.11/dist-packages (from requests->transformers) (2.3.0)\n",
            "Requirement already satisfied: certifi>=2017.4.17 in /usr/local/lib/python3.11/dist-packages (from requests->transformers) (2025.1.31)\n"
          ]
        }
      ]
    },
    {
      "cell_type": "code",
      "source": [
        "from transformers import pipeline\n",
        "\n",
        "def abstractive_summary(text):\n",
        "    summarizer = pipeline(\"summarization\", model=\"facebook/bart-large-cnn\")\n",
        "    summary = summarizer(text, max_length=50, min_length=30, do_sample=False)\n",
        "\n",
        "    print(\"Abstractive Summary:\")\n",
        "    print(summary[0]['summary_text'])\n",
        "\n",
        "\n",
        "\n",
        "text = \"\"\"\n",
        "Artificial Intelligence (AI) is transforming the world. It is becoming increasingly integrated\n",
        "into daily life and industries. From healthcare to finance, AI systems are being deployed to make\n",
        "processes faster and more accurate. However, ethical concerns regarding privacy and job displacement\n",
        "continue to emerge as technology progresses. Governments and organizations are seeking ways to balance\n",
        "innovation with responsible AI development to ensure positive outcomes for society.\n",
        "\"\"\"\n",
        "# Example usage\n",
        "abstractive_summary(text)\n"
      ],
      "metadata": {
        "colab": {
          "base_uri": "https://localhost:8080/"
        },
        "id": "w_8jheTDfwu3",
        "outputId": "56e901e6-d28c-45a9-9aec-97b1d8e43c51"
      },
      "execution_count": 7,
      "outputs": [
        {
          "output_type": "stream",
          "name": "stderr",
          "text": [
            "Device set to use cpu\n"
          ]
        },
        {
          "output_type": "stream",
          "name": "stdout",
          "text": [
            "Abstractive Summary:\n",
            "Artificial Intelligence (AI) is transforming the world. It is becoming increasingly integrated into daily life and industries. However, ethical concerns regarding privacy and job displacement continue to emerge.\n"
          ]
        }
      ]
    },
    {
      "cell_type": "code",
      "source": [
        "from transformers import pipeline\n",
        "\n",
        "def summarize_text(text):\n",
        "    try:\n",
        "        # Load the BART summarization pipeline\n",
        "        summarizer = pipeline(\"summarization\", model=\"facebook/bart-large-cnn\")\n",
        "\n",
        "        # Generate the summary\n",
        "        summary = summarizer(text, max_length=300, min_length=50, do_sample=False)\n",
        "\n",
        "        print(\"Summary:\")\n",
        "        print(summary[0]['summary_text'])\n",
        "\n",
        "    except Exception as e:\n",
        "        print(\"Error during summarization:\", str(e))\n",
        "\n",
        "# Given long text (truncated if too lengthy)\n",
        "long_text = \"\"\"\n",
        "Nirmal.MS\n",
        "Email:-m.snirmal1994@gmail.com Phone:-9566565270\n",
        "________________________________________________________________________\n",
        "Summary:\n",
        "    Dynamic and detail-oriented .NET Developer with 5 years of experience in designing, developing, and maintaining robust web and desktop applications. Proficient in C#, ASP.NET, .NET Core, MVC, and SQL Server, with a strong understanding of object-oriented programming principles and software development life cycle (SDLC). Skilled in analyzing business requirements, creating efficient solutions, and delivering high-quality code within deadlines. Adept at working in collaborative team environments and eager to leverage technical expertise to contribute to innovative projects.\n",
        "Technical Skills:\n",
        "•    Programming Languages: C#, ASP.NET, .NET Core, LINQ\n",
        "•    Web Technologies: HTML, CSS, JavaScript, jQuery, Bootstrap, MVC\n",
        "•    Database Management: SQL Server, MySQL, Entity Framework, ADO.NET\n",
        "•    Tools and IDEs: Visual Studio, Git, Azure\n",
        "•    Software Development: Object-Oriented Programming (OOP), RESTful API Development, Microservices Architecture\n",
        "•    Debugging and Testing: Unit Testing, Debugging Tools, Code Reviews\n",
        "•    Version Control: Git, GitHub, Bitbucket\n",
        "•    Other Skills: Problem-Solving, Team Collaboration, Agile/Scrum Methodologies\n",
        "Experience:\n",
        "Software Engineer - Cognitive Mobile Technology Pvt Ltd (Jan 2023 – Present)\n",
        "•    Designing, developing, and deploying web applications using C#, ASP.NET, and .NET Core.\n",
        "•    Collaborating in Agile teams to deliver high-quality software solutions.\n",
        "\n",
        "Education:\n",
        "Gojan School of Business and Technology – Anna university ,Chennai.\n",
        "•    M.E. Engineering Design 2016-2018\n",
        "T.J.S. Engineering College – Anna university, Chennai.\n",
        "•    B.E. Mechanical Engineering 2011-2015\n",
        "\n",
        "Certification:\n",
        "•    Full stack developer Certification - Softlogic – Chennai- Aug 2022 to Dec 2022\n",
        "\n",
        "Achievement:\n",
        "•    Awarded Best Project for final-year AI Drone Technology project on pollution diagnostics.\n",
        "•    State level runner up in shuttle badminton\n",
        "\n",
        "Projects:\n",
        "1. Clearance Management System for Indian Railways\n",
        "2. Data Capture and Analysis for Indian Railways\n",
        "3. CyBot Web Page Development\n",
        "4. Job Portal and Resume Builder for Memorial Sloan Kettering Cancer Center\n",
        "\"\"\"\n",
        "\n",
        "# Summarize the text\n",
        "summarize_text(long_text)\n"
      ],
      "metadata": {
        "colab": {
          "base_uri": "https://localhost:8080/"
        },
        "id": "85MDQLcEf9z9",
        "outputId": "c83ff5ae-9b7f-466d-fdc3-e58ede803f1d"
      },
      "execution_count": 8,
      "outputs": [
        {
          "output_type": "stream",
          "name": "stderr",
          "text": [
            "Device set to use cpu\n"
          ]
        },
        {
          "output_type": "stream",
          "name": "stdout",
          "text": [
            "Summary:\n",
            "Nirmal.MS is a dynamic and detail-oriented .NET Developer with 5 years of experience in designing, developing, and maintaining robust web and desktop applications. He is proficient in C#, ASP.NET, .NET Core, MVC, and SQL Server, with a strong understanding of object-oriented programming principles.\n"
          ]
        }
      ]
    },
    {
      "cell_type": "code",
      "source": [
        "import json\n",
        "import re\n",
        "\n",
        "def raw_text_to_json(raw_text):\n",
        "    # Split the text into lines and remove empty lines\n",
        "    lines = [line.strip() for line in raw_text.splitlines() if line.strip()]\n",
        "\n",
        "    data = {}\n",
        "    current_key = None\n",
        "    current_value = []\n",
        "\n",
        "    for line in lines:\n",
        "        # Check for a new section or key-value pair\n",
        "        match = re.match(r\"^(.*?):\\s*(.*)$\", line)\n",
        "        if match:\n",
        "            # Store the previous key-value pair if applicable\n",
        "            if current_key:\n",
        "                data[current_key] = \" \".join(current_value).strip()\n",
        "                current_value = []\n",
        "\n",
        "            # Update with the new key-value pair\n",
        "            current_key = match.group(1).strip()\n",
        "            current_value.append(match.group(2).strip())\n",
        "        else:\n",
        "            # If no new key, append to the current value (multi-line support)\n",
        "            current_value.append(line)\n",
        "\n",
        "    # Add the last collected key-value pair\n",
        "    if current_key:\n",
        "        data[current_key] = \" \".join(current_value).strip()\n",
        "\n",
        "    # Convert to JSON and print\n",
        "    json_data = json.dumps(data, indent=4)\n",
        "    print(json_data)\n",
        "\n",
        "    # Save to a file\n",
        "    with open(\"raw_text_to_json.json\", \"w\") as json_file:\n",
        "        json_file.write(json_data)\n",
        "\n",
        "    print(\"\\nJSON data saved to 'raw_text_to_json.json'\")\n",
        "\n",
        "# Example raw text\n",
        "raw_text = \"\"\"\n",
        "Nirmal.MS\n",
        "Email:-m.snirmal1994@gmail.com Phone:-9566565270\n",
        "________________________________________________________________________\n",
        "Summary:\n",
        "    Dynamic and detail-oriented .NET Developer with 5 years of experience in designing, developing, and maintaining robust web and desktop applications.\n",
        "Technical Skills:\n",
        "    Programming Languages: C#, ASP.NET, .NET Core, LINQ\n",
        "    Web Technologies: HTML, CSS, JavaScript, jQuery, Bootstrap, MVC\n",
        "    Database Management: SQL Server, MySQL, Entity Framework, ADO.NET\n",
        "Experience:\n",
        "    Software Engineer\n",
        "    Cognitive Mobile Technology Pvt Ltd (Jan 2023 – Present)\n",
        "    Designing, developing, and deploying web applications using C#, ASP.NET, and .NET Core.\n",
        "Education:\n",
        "    M.E. Engineering Design, Gojan School of Business and Technology – Anna university, Chennai, 2016-2018\n",
        "    B.E. Mechanical Engineering, T.J.S. Engineering College – Anna university, Chennai, 2011-2015\n",
        "Certification:\n",
        "    Full stack developer Certification - Softlogic – Chennai- Aug 2022 to Dec 2022\n",
        "Achievement:\n",
        "    Awarded Best Project for AI Drone Technology project on pollution diagnostics.\n",
        "\"\"\"\n",
        "\n",
        "# Convert raw text to JSON\n",
        "raw_text_to_json(raw_text)\n"
      ],
      "metadata": {
        "colab": {
          "base_uri": "https://localhost:8080/"
        },
        "id": "aobg5r9kh9os",
        "outputId": "a394e976-4012-4775-f2a2-961ae023e5dc"
      },
      "execution_count": 9,
      "outputs": [
        {
          "output_type": "stream",
          "name": "stdout",
          "text": [
            "{\n",
            "    \"Email\": \"Nirmal.MS -m.snirmal1994@gmail.com Phone:-9566565270 ________________________________________________________________________\",\n",
            "    \"Summary\": \"Dynamic and detail-oriented .NET Developer with 5 years of experience in designing, developing, and maintaining robust web and desktop applications.\",\n",
            "    \"Technical Skills\": \"\",\n",
            "    \"Programming Languages\": \"C#, ASP.NET, .NET Core, LINQ\",\n",
            "    \"Web Technologies\": \"HTML, CSS, JavaScript, jQuery, Bootstrap, MVC\",\n",
            "    \"Database Management\": \"SQL Server, MySQL, Entity Framework, ADO.NET\",\n",
            "    \"Experience\": \"Software Engineer Cognitive Mobile Technology Pvt Ltd (Jan 2023 \\u2013 Present) Designing, developing, and deploying web applications using C#, ASP.NET, and .NET Core.\",\n",
            "    \"Education\": \"M.E. Engineering Design, Gojan School of Business and Technology \\u2013 Anna university, Chennai, 2016-2018 B.E. Mechanical Engineering, T.J.S. Engineering College \\u2013 Anna university, Chennai, 2011-2015\",\n",
            "    \"Certification\": \"Full stack developer Certification - Softlogic \\u2013 Chennai- Aug 2022 to Dec 2022\",\n",
            "    \"Achievement\": \"Awarded Best Project for AI Drone Technology project on pollution diagnostics.\"\n",
            "}\n",
            "\n",
            "JSON data saved to 'raw_text_to_json.json'\n"
          ]
        }
      ]
    },
    {
      "cell_type": "code",
      "source": [],
      "metadata": {
        "id": "O-l-W3xvnEy_"
      },
      "execution_count": null,
      "outputs": []
    }
  ]
}